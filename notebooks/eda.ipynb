{
 "cells": [
  {
   "cell_type": "markdown",
   "id": "d1e87cdf",
   "metadata": {},
   "source": [
    "# <center>  Lab 5 | EDA & Visualisation.</center>"
   ]
  },
  {
   "cell_type": "code",
   "execution_count": 30,
   "id": "2a055b42",
   "metadata": {},
   "outputs": [
    {
     "data": {
      "text/html": [
       "<div>\n",
       "<style scoped>\n",
       "    .dataframe tbody tr th:only-of-type {\n",
       "        vertical-align: middle;\n",
       "    }\n",
       "\n",
       "    .dataframe tbody tr th {\n",
       "        vertical-align: top;\n",
       "    }\n",
       "\n",
       "    .dataframe thead th {\n",
       "        text-align: right;\n",
       "    }\n",
       "</style>\n",
       "<table border=\"1\" class=\"dataframe\">\n",
       "  <thead>\n",
       "    <tr style=\"text-align: right;\">\n",
       "      <th></th>\n",
       "      <th>student_id</th>\n",
       "      <th>age</th>\n",
       "      <th>gpa</th>\n",
       "      <th>gender</th>\n",
       "      <th>major</th>\n",
       "      <th>year</th>\n",
       "    </tr>\n",
       "  </thead>\n",
       "  <tbody>\n",
       "    <tr>\n",
       "      <th>0</th>\n",
       "      <td>1</td>\n",
       "      <td>14</td>\n",
       "      <td>NaN</td>\n",
       "      <td>F</td>\n",
       "      <td>Economics</td>\n",
       "      <td>freshman</td>\n",
       "    </tr>\n",
       "    <tr>\n",
       "      <th>1</th>\n",
       "      <td>2</td>\n",
       "      <td>17</td>\n",
       "      <td>2.92</td>\n",
       "      <td>M</td>\n",
       "      <td>History</td>\n",
       "      <td>senior</td>\n",
       "    </tr>\n",
       "    <tr>\n",
       "      <th>2</th>\n",
       "      <td>3</td>\n",
       "      <td>17</td>\n",
       "      <td>2.97</td>\n",
       "      <td>F</td>\n",
       "      <td>Physics</td>\n",
       "      <td>senior</td>\n",
       "    </tr>\n",
       "    <tr>\n",
       "      <th>3</th>\n",
       "      <td>4</td>\n",
       "      <td>16</td>\n",
       "      <td>2.76</td>\n",
       "      <td>F</td>\n",
       "      <td>Physics</td>\n",
       "      <td>junior</td>\n",
       "    </tr>\n",
       "    <tr>\n",
       "      <th>4</th>\n",
       "      <td>5</td>\n",
       "      <td>16</td>\n",
       "      <td>2.24</td>\n",
       "      <td>M</td>\n",
       "      <td>Chemistry</td>\n",
       "      <td>junior</td>\n",
       "    </tr>\n",
       "  </tbody>\n",
       "</table>\n",
       "</div>"
      ],
      "text/plain": [
       "   student_id  age   gpa gender      major      year\n",
       "0           1   14   NaN      F  Economics  freshman\n",
       "1           2   17  2.92      M    History    senior\n",
       "2           3   17  2.97      F    Physics    senior\n",
       "3           4   16  2.76      F    Physics    junior\n",
       "4           5   16  2.24      M  Chemistry    junior"
      ]
     },
     "execution_count": 30,
     "metadata": {},
     "output_type": "execute_result"
    }
   ],
   "source": [
    "import pandas as pd\n",
    "import numpy as np\n",
    "import matplotlib as plt \n",
    "\n",
    "df = pd.read_csv(\"../data/students.csv\")\n",
    "df.head()"
   ]
  },
  {
   "cell_type": "code",
   "execution_count": 31,
   "id": "df8d71e5",
   "metadata": {},
   "outputs": [
    {
     "name": "stdout",
     "output_type": "stream",
     "text": [
      "<class 'pandas.core.frame.DataFrame'>\n",
      "RangeIndex: 100 entries, 0 to 99\n",
      "Data columns (total 6 columns):\n",
      " #   Column      Non-Null Count  Dtype  \n",
      "---  ------      --------------  -----  \n",
      " 0   student_id  100 non-null    int64  \n",
      " 1   age         100 non-null    int64  \n",
      " 2   gpa         90 non-null     float64\n",
      " 3   gender      100 non-null    object \n",
      " 4   major       95 non-null     object \n",
      " 5   year        100 non-null    object \n",
      "dtypes: float64(1), int64(2), object(3)\n",
      "memory usage: 4.8+ KB\n"
     ]
    },
    {
     "data": {
      "text/plain": [
       "student_id     0\n",
       "age            0\n",
       "gpa           10\n",
       "gender         0\n",
       "major          5\n",
       "year           0\n",
       "dtype: int64"
      ]
     },
     "execution_count": 31,
     "metadata": {},
     "output_type": "execute_result"
    }
   ],
   "source": [
    "df.info() \n",
    "df.isna().sum()"
   ]
  },
  {
   "cell_type": "markdown",
   "id": "33e0c14a",
   "metadata": {},
   "source": [
    "###  *“Which column has the most missing values and why might that be?”*\n",
    "\n",
    "Answer: \n",
    "\n",
    "GPA is the column that has the most missing values. Compared to the other columns' values like major, name, and age, GPA may not be established until a full term is over. This means that  students that are new to their institution may have not have had a GPA to report. \n",
    "\n",
    "\n"
   ]
  },
  {
   "cell_type": "code",
   "execution_count": 32,
   "id": "650ba70f",
   "metadata": {},
   "outputs": [
    {
     "name": "stdout",
     "output_type": "stream",
     "text": [
      "          age        gpa\n",
      "0  100.000000  90.000000\n",
      "1   16.130000   2.624667\n",
      "2   16.000000   2.665000\n",
      "3    1.892020   0.227432\n",
      "4    1.375507   0.476898\n",
      "5   14.000000   1.630000\n",
      "6   18.000000   3.930000\n"
     ]
    }
   ],
   "source": [
    "#For age and gpa columns record: count, mean, median, variance, SD, min, max. Save them\n",
    "#into a small DataFrame called summary and print it.\n",
    "\n",
    "age_col = df['age']\n",
    "gpa_col = df['gpa']\n",
    "\n",
    "age_count = age_col.count()\n",
    "gpa_count = gpa_col.count()\n",
    "\n",
    "age_mean = age_col.mean()\n",
    "gpa_mean = gpa_col.mean()\n",
    "\n",
    "age_median = age_col.median()\n",
    "gpa_median = gpa_col.median()\n",
    "\n",
    "age_var = age_col.var()\n",
    "gpa_var = gpa_col.var()\n",
    "\n",
    "age_std = age_col.std()\n",
    "gpa_std = gpa_col.std()\n",
    "\n",
    "age_min = age_col.min()\n",
    "gpa_min = gpa_col.min()\n",
    "\n",
    "age_max = age_col.max()\n",
    "gpa_max = gpa_col.max()\n",
    "\n",
    "summary = pd.DataFrame({'age': [age_count, age_mean, age_median, age_var, age_std, age_min, age_max]})\n",
    "summary['gpa'] = [gpa_count, gpa_mean, gpa_median, gpa_var, gpa_std, gpa_min, gpa_max] \n",
    "\n",
    "print(summary)"
   ]
  },
  {
   "cell_type": "code",
   "execution_count": 33,
   "id": "666d677a",
   "metadata": {},
   "outputs": [
    {
     "data": {
      "text/plain": [
       "<Axes: >"
      ]
     },
     "execution_count": 33,
     "metadata": {},
     "output_type": "execute_result"
    },
    {
     "data": {
      "image/png": "[encoded data removed]",
      "text/plain": [
       "<Figure size 640x480 with 1 Axes>"
      ]
     },
     "metadata": {},
     "output_type": "display_data"
    }
   ],
   "source": [
    "import seaborn as sns\n",
    "\n",
    "#age histogram with .hist\n",
    "df['age'].hist(bins=range(14, 19), align='left', rwidth=0.8)\n"
   ]
  },
  {
   "cell_type": "code",
   "execution_count": 34,
   "id": "bf763c36",
   "metadata": {},
   "outputs": [
    {
     "data": {
      "text/plain": [
       "<Axes: xlabel='gpa', ylabel='Count'>"
      ]
     },
     "execution_count": 34,
     "metadata": {},
     "output_type": "execute_result"
    },
    {
     "data": {
      "image/png": "[encoded data removed]",
      "text/plain": [
       "<Figure size 640x480 with 1 Axes>"
      ]
     },
     "metadata": {},
     "output_type": "display_data"
    }
   ],
   "source": [
    "#gpa histogram with seaborn\n",
    "sns.histplot(df[\"gpa\"], kde=True)"
   ]
  },
  {
   "cell_type": "markdown",
   "id": "9cc945f8",
   "metadata": {},
   "source": [
    "#### *One Interesting Feature of Each Distribution*\n",
    "\n",
    "The histogram for age is skewed towards older ages. This suggests that older students may have been more likely to be included in the dataset for some reason or another.\n",
    "\n",
    "The histogram for GPA shows that GPAs are likely to be roughly in the middle of the possible grades and that grades near the min or max are uncommon. \n",
    "\n"
   ]
  },
  {
   "cell_type": "code",
   "execution_count": 35,
   "id": "ed8fb477",
   "metadata": {},
   "outputs": [
    {
     "name": "stdout",
     "output_type": "stream",
     "text": [
      "0.8786075344584666\n"
     ]
    },
    {
     "data": {
      "image/png": "[encoded data removed]",
      "text/plain": [
       "<Figure size 640x480 with 1 Axes>"
      ]
     },
     "metadata": {},
     "output_type": "display_data"
    }
   ],
   "source": [
    "#Scatter Plot age vs gpa\n",
    "\n",
    "df.plot.scatter(x='age', y='gpa')\n",
    "\n",
    "#correlation\n",
    "print(df['age'].corr(df['gpa']))"
   ]
  },
  {
   "cell_type": "markdown",
   "id": "f16ab46c",
   "metadata": {},
   "source": [
    "#### *GPA Trend Analysis*\n",
    "\n",
    "GPA generally trends *upwards* as age increases. The correlation is roughly 0.878, meaning there is a significant relationship between age and GPA performance. "
   ]
  },
  {
   "cell_type": "code",
   "execution_count": 37,
   "id": "d0897c8e",
   "metadata": {},
   "outputs": [],
   "source": [
    "#major column to lowercase, strip spaces\n",
    "\n",
    "df['major'] = df['major'].str.lower()\n",
    "df['major'] = df['major'].str.strip()\n",
    "df['major'] = df['major'].replace(r'^\\s*$', np.nan, regex=True)\n",
    "\n",
    "df.to_csv('../data/students_clean.csv', index=False)"
   ]
  },
  {
   "cell_type": "markdown",
   "id": "e95f84e9",
   "metadata": {},
   "source": [
    "## Conclusion\n",
    "\n",
    "Sections 2 and 3 helped develop basic data cleaning / wrangling skills. This shows that basic numpy, matplotlib, seaborn, and pandas functions can reveal many important statistics about a given dataset and that cleaning is important in order to create readable and usable data. This process can be very tedious, but it is important to do it thoroughly to produce the best final results. "
   ]
  }
 ],
 "metadata": {
  "kernelspec": {
   "display_name": "lab_5",
   "language": "python",
   "name": "python3"
  },
  "language_info": {
   "codemirror_mode": {
    "name": "ipython",
    "version": 3
   },
   "file_extension": ".py",
   "mimetype": "text/x-python",
   "name": "python",
   "nbconvert_exporter": "python",
   "pygments_lexer": "ipython3",
   "version": "3.13.5"
  }
 },
 "nbformat": 4,
 "nbformat_minor": 5
}
